{
 "cells": [
  {
   "cell_type": "markdown",
   "id": "ea805e7b",
   "metadata": {},
   "source": [
    "### Facebook Comment Volume Dataset Analysis using AutoGluon"
   ]
  },
  {
   "cell_type": "markdown",
   "id": "8fd32ac9",
   "metadata": {},
   "source": [
    "### Data Ingestion"
   ]
  },
  {
   "cell_type": "code",
   "execution_count": 2,
   "id": "f91873ce",
   "metadata": {},
   "outputs": [],
   "source": [
    "import os\n",
    "import pandas as pd\n",
    "from scipy.io import arff"
   ]
  },
  {
   "cell_type": "code",
   "execution_count": 3,
   "id": "d030ca76",
   "metadata": {},
   "outputs": [
    {
     "data": {
      "text/html": [
       "<style>.container { width:100% !important; }</style>"
      ],
      "text/plain": [
       "<IPython.core.display.HTML object>"
      ]
     },
     "metadata": {},
     "output_type": "display_data"
    }
   ],
   "source": [
    "import warnings\n",
    "warnings.simplefilter(action='ignore', category=RuntimeWarning)\n",
    "warnings.simplefilter(action='ignore', category=FutureWarning)\n",
    "warnings.simplefilter(action='ignore', category=UserWarning)\n",
    "warnings.simplefilter(action='ignore', category=DeprecationWarning)\n",
    "\n",
    "pd.set_option(\"display.max_columns\", None)\n",
    "pd.set_option(\"display.max_rows\", None)\n",
    "pd.options.display.max_colwidth = None\n",
    "pd.set_option(\"display.float_format\", lambda x: '%.3f' % x)\n",
    "\n",
    "from IPython.display import display, HTML\n",
    "display(HTML(\"<style>.container { width:100% !important; }</style>\"))"
   ]
  },
  {
   "cell_type": "code",
   "execution_count": 4,
   "id": "070c12bc",
   "metadata": {},
   "outputs": [
    {
     "data": {
      "text/plain": [
       "'C:\\\\Users\\\\all4u\\\\redzoneprojects\\\\facebook_comments_predictions'"
      ]
     },
     "execution_count": 4,
     "metadata": {},
     "output_type": "execute_result"
    }
   ],
   "source": [
    "pwd"
   ]
  },
  {
   "cell_type": "code",
   "execution_count": 5,
   "id": "67280296",
   "metadata": {},
   "outputs": [],
   "source": [
    "# Data folder\n",
    "data_folder = \"data\""
   ]
  },
  {
   "cell_type": "code",
   "execution_count": 6,
   "id": "09393034",
   "metadata": {},
   "outputs": [
    {
     "data": {
      "text/plain": [
       "'C:\\\\Users\\\\all4u\\\\redzoneprojects\\\\facebook_comments_predictions'"
      ]
     },
     "execution_count": 6,
     "metadata": {},
     "output_type": "execute_result"
    }
   ],
   "source": [
    "# main working folder\n",
    "main_path = os.getcwd()\n",
    "main_path"
   ]
  },
  {
   "cell_type": "code",
   "execution_count": 7,
   "id": "e115cd46",
   "metadata": {},
   "outputs": [],
   "source": [
    "# os.path.join\n",
    "\n",
    "main_path = os.path.join(main_path, data_folder)"
   ]
  },
  {
   "cell_type": "code",
   "execution_count": 8,
   "id": "1684874c",
   "metadata": {},
   "outputs": [
    {
     "data": {
      "text/plain": [
       "'C:\\\\Users\\\\all4u\\\\redzoneprojects\\\\facebook_comments_predictions\\\\data'"
      ]
     },
     "execution_count": 8,
     "metadata": {},
     "output_type": "execute_result"
    }
   ],
   "source": [
    "main_path"
   ]
  },
  {
   "cell_type": "code",
   "execution_count": 9,
   "id": "af8f3cf8",
   "metadata": {},
   "outputs": [],
   "source": [
    "# files list\n",
    "\n",
    "files_list = os.listdir(main_path)"
   ]
  },
  {
   "cell_type": "code",
   "execution_count": 10,
   "id": "15a46e45",
   "metadata": {},
   "outputs": [
    {
     "data": {
      "text/plain": [
       "['Features_Variant_1.arff',\n",
       " 'Features_Variant_1.csv',\n",
       " 'Features_Variant_2.arff',\n",
       " 'Features_Variant_2.csv',\n",
       " 'Features_Variant_3.arff',\n",
       " 'Features_Variant_3.csv',\n",
       " 'Features_Variant_4.arff',\n",
       " 'Features_Variant_4.csv',\n",
       " 'Features_Variant_5.arff',\n",
       " 'Features_Variant_5.csv']"
      ]
     },
     "execution_count": 10,
     "metadata": {},
     "output_type": "execute_result"
    }
   ],
   "source": [
    "files_list"
   ]
  },
  {
   "cell_type": "markdown",
   "id": "1186ec68",
   "metadata": {},
   "source": [
    "#### Read in the  '.arff ' data "
   ]
  },
  {
   "cell_type": "code",
   "execution_count": 12,
   "id": "2a4744c9",
   "metadata": {},
   "outputs": [],
   "source": [
    "features_variant_1, meta_data = arff.loadarff(os.path.join(main_path, files_list[0]))"
   ]
  },
  {
   "cell_type": "code",
   "execution_count": 13,
   "id": "2c30d6e0",
   "metadata": {},
   "outputs": [],
   "source": [
    "data_1 = pd.DataFrame(features_variant_1)"
   ]
  },
  {
   "cell_type": "code",
   "execution_count": 14,
   "id": "b5643872",
   "metadata": {},
   "outputs": [
    {
     "data": {
      "text/plain": [
       "'Features_Variant_5.arff'"
      ]
     },
     "execution_count": 14,
     "metadata": {},
     "output_type": "execute_result"
    }
   ],
   "source": [
    "files_list[8]"
   ]
  },
  {
   "cell_type": "code",
   "execution_count": 15,
   "id": "adb28bf0",
   "metadata": {},
   "outputs": [],
   "source": [
    "features_variant_2, meta_data = arff.loadarff(os.path.join(main_path, files_list[2]))\n",
    "data_2 = pd.DataFrame(features_variant_2)"
   ]
  },
  {
   "cell_type": "code",
   "execution_count": 16,
   "id": "9922f9b2",
   "metadata": {},
   "outputs": [],
   "source": [
    "features_variant_3, meta_data = arff.loadarff(os.path.join(main_path, files_list[4]))\n",
    "data_3 = pd.DataFrame(features_variant_3)"
   ]
  },
  {
   "cell_type": "code",
   "execution_count": 17,
   "id": "0c36f472",
   "metadata": {},
   "outputs": [],
   "source": [
    "features_variant_4, meta_data = arff.loadarff(os.path.join(main_path, files_list[6]))\n",
    "data_4 = pd.DataFrame(features_variant_4)"
   ]
  },
  {
   "cell_type": "code",
   "execution_count": 18,
   "id": "50fe55de",
   "metadata": {},
   "outputs": [],
   "source": [
    "features_variant_5, meta_data = arff.loadarff(os.path.join(main_path, files_list[8]))\n",
    "data_5 = pd.DataFrame(features_variant_5)"
   ]
  },
  {
   "cell_type": "markdown",
   "id": "6ffff26c",
   "metadata": {},
   "source": [
    "### Data Inspection"
   ]
  },
  {
   "cell_type": "code",
   "execution_count": null,
   "id": "4433fb07",
   "metadata": {},
   "outputs": [],
   "source": []
  }
 ],
 "metadata": {
  "kernelspec": {
   "display_name": "Python 3 (ipykernel)",
   "language": "python",
   "name": "python3"
  },
  "language_info": {
   "codemirror_mode": {
    "name": "ipython",
    "version": 3
   },
   "file_extension": ".py",
   "mimetype": "text/x-python",
   "name": "python",
   "nbconvert_exporter": "python",
   "pygments_lexer": "ipython3",
   "version": "3.9.16"
  }
 },
 "nbformat": 4,
 "nbformat_minor": 5
}
